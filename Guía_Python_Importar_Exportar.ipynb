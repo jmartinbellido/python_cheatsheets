{
  "nbformat": 4,
  "nbformat_minor": 0,
  "metadata": {
    "colab": {
      "name": "Guía Python: Importar/Exportar.ipynb",
      "provenance": [],
      "collapsed_sections": [],
      "toc_visible": true
    },
    "kernelspec": {
      "name": "python3",
      "display_name": "Python 3"
    }
  },
  "cells": [
    {
      "cell_type": "markdown",
      "source": [
        "# GUÍA PYTHON: IMPORTAR/EXPORTAR\n",
        "---\n",
        "#### Elaborado por [Juan Martin Bellido ](https://www.linkedin.com/in/jmartinbellido/)\n"
      ],
      "metadata": {
        "id": "mKGbLH7Vk5iq"
      }
    },
    {
      "cell_type": "markdown",
      "metadata": {
        "id": "Iq0dLzFr2tux"
      },
      "source": [
        "### *Interactuando con un sistema operativo*\n",
        "---"
      ]
    },
    {
      "cell_type": "markdown",
      "metadata": {
        "id": "6EMZLXKAxgOu"
      },
      "source": [
        "\n",
        "| # | Function    | Description                                  | Key Parameters     |\n",
        "|---|-------------|----------------------------------------------|--------------------|\n",
        "| 1 | os.getcwd() | *Shows path to current working directory*    |                    |\n",
        "| 2 | os.mkdir()  | *Creates folder on given path*               | 'path/folder_name' |\n",
        "| 3 | os.chdir()  | *Changes working directory to path provided* | 'path/folder_name' |\n",
        "| 4 | os.rmdir()  | *Removes folder*                             | 'path/folder_name' |"
      ]
    },
    {
      "cell_type": "code",
      "source": [
        "# importamos librería os\n",
        "import os"
      ],
      "metadata": {
        "id": "GSR6FEzGo_QE"
      },
      "execution_count": null,
      "outputs": []
    },
    {
      "cell_type": "code",
      "metadata": {
        "id": "sgeQztF1NP-B",
        "colab": {
          "base_uri": "https://localhost:8080/",
          "height": 35
        },
        "outputId": "f9d27ef3-4be1-4e52-c17a-03dea6725b35"
      },
      "source": [
        "# consultamos working directory (directorio de trabajo)\n",
        "os.getcwd()"
      ],
      "execution_count": null,
      "outputs": [
        {
          "output_type": "execute_result",
          "data": {
            "application/vnd.google.colaboratory.intrinsic+json": {
              "type": "string"
            },
            "text/plain": [
              "'/content'"
            ]
          },
          "metadata": {},
          "execution_count": 2
        }
      ]
    },
    {
      "cell_type": "code",
      "metadata": {
        "id": "C0SO_PefNQAg"
      },
      "source": [
        "# creamos una carpeta os.mkdir('path/new_folder')\n",
        "os.mkdir('new_folder')"
      ],
      "execution_count": null,
      "outputs": []
    },
    {
      "cell_type": "code",
      "metadata": {
        "id": "ZZ64OntTO8Lu",
        "colab": {
          "base_uri": "https://localhost:8080/",
          "height": 35
        },
        "outputId": "adefeb9c-f9a7-42bd-e8aa-7218da4ffa06"
      },
      "source": [
        "# podemos cambiar el working directory\n",
        "os.chdir('new_folder') # \"new folder\" es ahora nuestro working directory\n",
        "os.getcwd() # podemos corroborarlo"
      ],
      "execution_count": null,
      "outputs": [
        {
          "output_type": "execute_result",
          "data": {
            "application/vnd.google.colaboratory.intrinsic+json": {
              "type": "string"
            },
            "text/plain": [
              "'/content/new_folder'"
            ]
          },
          "metadata": {},
          "execution_count": 4
        }
      ]
    },
    {
      "cell_type": "code",
      "metadata": {
        "id": "F3tJq8-xNQCq"
      },
      "source": [
        "# podemos eliminar la carpeta que hemos creado \n",
        "os.rmdir('new_folder')"
      ],
      "execution_count": null,
      "outputs": []
    },
    {
      "cell_type": "markdown",
      "metadata": {
        "id": "GCT9M535ABjf"
      },
      "source": [
        "### *Importando y exportando dataframes como CSV, TXT y XLSX*\n",
        "---\n",
        "\n",
        "\n",
        "| # | Function         | Description                                       | Key Parameters                  |\n",
        "|---|------------------|---------------------------------------------------|---------------------------------|\n",
        "| 1 | pd.read_csv()    | *Imports dataframe from URL or local drive*       | 'path/file_name', sep=','/'\\t'  |\n",
        "| 2 | df.to_csv()      | *Exports dataframe to local drive*                | 'path/file_name', sep=','/'\\t'  |\n",
        "| 3 | df.to_excel()    | *Exports dataframe to a single sheet Excel file*  | 'path/file_name', sheet_name='' |\n",
        "| 4 | pd.ExcelWriter() | *Generates a blank Excel file in memory*          | 'path/file_name'                |\n",
        "| 5 | wb.save()        | *Exports Excel file stored in memory*             |                                 |\n",
        "| 6 | pd.read_excel()  | *Reads a sheet from an Excel file stored locally* | 'path/file_name', sheet_name='' |"
      ]
    },
    {
      "cell_type": "code",
      "source": [
        "# importamos librería\n",
        "import pandas as pd"
      ],
      "metadata": {
        "id": "ACY34WGopBsW"
      },
      "execution_count": null,
      "outputs": []
    },
    {
      "cell_type": "code",
      "metadata": {
        "id": "42JLKeZIgQv9"
      },
      "source": [
        "# importarmos dataframes de una url\n",
        "df_starwars = pd.read_csv(\"https://data-wizards.s3.amazonaws.com/datasets/dataset_star_wars.csv\")\n",
        "df_jamesbond = pd.read_csv(\"https://data-wizards.s3.amazonaws.com/datasets/jamesbond.csv\")"
      ],
      "execution_count": null,
      "outputs": []
    },
    {
      "cell_type": "markdown",
      "metadata": {
        "id": "7RUZafM5YkK3"
      },
      "source": [
        "#### Exportamos como csv/txt"
      ]
    },
    {
      "cell_type": "code",
      "metadata": {
        "id": "AZHgPheMHoem"
      },
      "source": [
        "# usamos .to_csv() para exportar df a entorno local\n",
        "df_jamesbond.to_csv(\"dataset_jamesbond.csv\", index=False)\n",
        "## de forma alternativa, podríamos proporcionar un path -> df_jamesbond.to_csv(\"path/dataset_jamesbond.csv\")"
      ],
      "execution_count": null,
      "outputs": []
    },
    {
      "cell_type": "code",
      "metadata": {
        "id": "u0KMWEN9XhQ8"
      },
      "source": [
        "# podemos utilizar el mismo método para exportar df como txt (tab delimited)\n",
        "df_jamesbond.to_csv(\"dataset_jamesbond.txt\",sep='\\t', index=False) # debemos editar parametro opcional \"sep\""
      ],
      "execution_count": null,
      "outputs": []
    },
    {
      "cell_type": "markdown",
      "source": [
        "#### Importamos csv/txt"
      ],
      "metadata": {
        "id": "xIdmr-cYrseL"
      }
    },
    {
      "cell_type": "code",
      "metadata": {
        "id": "CsO3XJ1kYFSS"
      },
      "source": [
        "# usamos la función read_csv() para importar archivo local\n",
        "pd.read_csv(\"dataset_jamesbond.csv\")\n",
        "## de forma alternativa, podríamos dar un path -> df_jamesbond.read_csv(\"path/dataset_jamesbond.csv\")"
      ],
      "execution_count": null,
      "outputs": []
    },
    {
      "cell_type": "code",
      "metadata": {
        "id": "8olUYtThYE9X"
      },
      "source": [
        "# la misma función sirve para importar archivos en txt\n",
        "pd.read_csv(\"dataset_jamesbond.txt\",sep='\\t')"
      ],
      "execution_count": null,
      "outputs": []
    },
    {
      "cell_type": "markdown",
      "metadata": {
        "id": "81-ksg0oYqQs"
      },
      "source": [
        "#### Exportando Excel"
      ]
    },
    {
      "cell_type": "code",
      "metadata": {
        "id": "OD_k1i0Df05L"
      },
      "source": [
        "# exportamos dataframe como excel\n",
        "df_jamesbond.to_excel('my_excel_file.xlsx', sheet_name='james_bond')"
      ],
      "execution_count": null,
      "outputs": []
    },
    {
      "cell_type": "code",
      "metadata": {
        "id": "nj1pKRTYf5yy"
      },
      "source": [
        "# si repetimos el mismo método para almacenar otro df, estaremos sobreescribiendo el mismo archivo\n",
        "df_starwars.to_excel('my_excel_file.xlsx', sheet_name='star_wars')"
      ],
      "execution_count": null,
      "outputs": []
    },
    {
      "cell_type": "code",
      "metadata": {
        "id": "2L3-I_XHY07V"
      },
      "source": [
        "# para crear un archivo excel con múltiples pestañas debemos seguir los pasos a continuación\n",
        "# 1. creamos un \"excel writer\": un archivo excel vacío en memoria\n",
        "wb = pd.ExcelWriter('my_excel_file.xlsx') # especificamos nombre\n",
        "# 2. definimos pestañas y las guardamos en el excel writer\n",
        "df_jamesbond.to_excel(wb, 'Sheet_James_Bond') # here, we create a sheet and store data on it\n",
        "df_starwars.to_excel(wb, 'Sheet_Star_Wars') # we create a second sheet and store data on it\n",
        "# 3. guardamos excel\n",
        "wb.save()"
      ],
      "execution_count": null,
      "outputs": []
    },
    {
      "cell_type": "markdown",
      "source": [
        "#### Importando Excel"
      ],
      "metadata": {
        "id": "baOl2MkdwUpD"
      }
    },
    {
      "cell_type": "code",
      "metadata": {
        "id": "oPdZqxABf8Of"
      },
      "source": [
        "# el método read_excel permite importar un dataframe desde Excel\n",
        "pd.read_excel('my_excel_file_v2.xlsx', sheet_name='Sheet_Star_Wars')"
      ],
      "execution_count": null,
      "outputs": []
    }
  ]
}